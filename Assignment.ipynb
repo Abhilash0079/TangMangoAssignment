{
 "cells": [
  {
   "cell_type": "markdown",
   "id": "b4a95c93-3642-4a52-b03d-5ce336279b77",
   "metadata": {},
   "source": [
    "### Assignment :\r\n",
    "\r\n",
    "1) Create 5 variable with diifrent values and print them using print() function "
   ]
  },
  {
   "cell_type": "code",
   "execution_count": 5,
   "id": "eab3225b-b627-4e88-92b0-db761c0e7424",
   "metadata": {},
   "outputs": [
    {
     "name": "stdout",
     "output_type": "stream",
     "text": [
      "Abhilash\n",
      "123456789\n",
      "40000.0\n",
      "5000.0\n",
      "35000.0\n"
     ]
    }
   ],
   "source": [
    "account_number = 123456789\n",
    "account_name = \"Abhilash\"\n",
    "account_balance = 40000.00\n",
    "withdrawl_amount = 5000.00\n",
    "final_balance = account_balance - withdrawl_amount\n",
    "\n",
    "print(account_name)\n",
    "print(account_number)\n",
    "print(account_balance)\n",
    "print(withdrawl_amount)\n",
    "print(final_balance)"
   ]
  },
  {
   "cell_type": "code",
   "execution_count": null,
   "id": "33175697-6ff4-4a63-b44d-67d4ea8e4df9",
   "metadata": {},
   "outputs": [],
   "source": []
  }
 ],
 "metadata": {
  "kernelspec": {
   "display_name": "Python [conda env:base] *",
   "language": "python",
   "name": "conda-base-py"
  },
  "language_info": {
   "codemirror_mode": {
    "name": "ipython",
    "version": 3
   },
   "file_extension": ".py",
   "mimetype": "text/x-python",
   "name": "python",
   "nbconvert_exporter": "python",
   "pygments_lexer": "ipython3",
   "version": "3.12.4"
  }
 },
 "nbformat": 4,
 "nbformat_minor": 5
}
