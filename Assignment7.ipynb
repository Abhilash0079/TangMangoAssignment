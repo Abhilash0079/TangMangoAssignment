{
 "cells": [
  {
   "cell_type": "markdown",
   "id": "19125a53-534b-47eb-910c-e37d4b3391e5",
   "metadata": {},
   "source": [
    "#### 1. Date Module Operations\r",
    "     1. Display the current date and ti\n",
    "  2.    2. Create a date object for `July 4, 2022`, and pri\n",
    "  3. Extract and display the name of the month from the date object `December 15, 2021`.. If `testfile.txt` does not exist, print `\"File does not exist.\"`."
   ]
  },
  {
   "cell_type": "code",
   "execution_count": 22,
   "id": "cd84e3c2-7bfe-456e-8ad8-0b78b16c6a4c",
   "metadata": {},
   "outputs": [
    {
     "name": "stdout",
     "output_type": "stream",
     "text": [
      "2025-04-17 20:04:00.863772\n"
     ]
    }
   ],
   "source": [
    "import datetime\n",
    "print(datetime.datetime.now())"
   ]
  },
  {
   "cell_type": "code",
   "execution_count": 26,
   "id": "128af05e-fe0f-4763-adcf-de74648fa9f6",
   "metadata": {},
   "outputs": [
    {
     "name": "stdout",
     "output_type": "stream",
     "text": [
      "2022-07-04 00:00:00\n"
     ]
    }
   ],
   "source": [
    "x = datetime.datetime(2022, 7, 4)\n",
    "\n",
    "print(x)"
   ]
  },
  {
   "cell_type": "code",
   "execution_count": 30,
   "id": "4429228a-30c0-4abf-b2dd-bb4e575b31d4",
   "metadata": {},
   "outputs": [
    {
     "name": "stdout",
     "output_type": "stream",
     "text": [
      "12\n"
     ]
    }
   ],
   "source": [
    "x = datetime.datetime(2021,12,15)\n",
    "print(x.month)"
   ]
  },
  {
   "cell_type": "markdown",
   "id": "98ed2b2e-0827-47e8-9721-f3c25d284995",
   "metadata": {},
   "source": [
    "#### 2. Mathematical Calculations with `math` Module\n",
    "  - Use the `math` module to:\n",
    "      1. Compute and print the square root of `81`.\n",
    "      2. Find and display the ceiling and floor values of `8.3`.\n",
    "      3. Calculate and print `2` raised to the power of `5`.\n",
    "      4. Print the value of π (pi) from the `math` module."
   ]
  },
  {
   "cell_type": "code",
   "execution_count": 34,
   "id": "feebd12d-5203-4341-940a-df58a97095f7",
   "metadata": {},
   "outputs": [
    {
     "name": "stdout",
     "output_type": "stream",
     "text": [
      "9.0\n"
     ]
    }
   ],
   "source": [
    "import math\n",
    "print(math.sqrt(81))"
   ]
  },
  {
   "cell_type": "code",
   "execution_count": 36,
   "id": "85f9420a-03b3-4f0e-bd1a-823606503a03",
   "metadata": {},
   "outputs": [
    {
     "name": "stdout",
     "output_type": "stream",
     "text": [
      "9\n",
      "8\n"
     ]
    }
   ],
   "source": [
    "print(math.ceil(8.3))\n",
    "print(math.floor(8.3))"
   ]
  },
  {
   "cell_type": "code",
   "execution_count": 38,
   "id": "f86cbb87-d28a-4297-b5ef-e0be06185e69",
   "metadata": {},
   "outputs": [
    {
     "name": "stdout",
     "output_type": "stream",
     "text": [
      "32.0\n"
     ]
    }
   ],
   "source": [
    "print(math.pow(2,5))"
   ]
  },
  {
   "cell_type": "code",
   "execution_count": 42,
   "id": "d1552516-7c84-4ddc-97d0-ae41d0e2d57b",
   "metadata": {},
   "outputs": [
    {
     "name": "stdout",
     "output_type": "stream",
     "text": [
      "3.141592653589793\n"
     ]
    }
   ],
   "source": [
    "print(math.pi)"
   ]
  },
  {
   "cell_type": "markdown",
   "id": "7d5c767c-a445-4f55-8699-f5462325cb50",
   "metadata": {},
   "source": [
    "#### 3. Polymorphism in Built-in and Custom Classes\n",
    "    - Demonstrate polymorphism by:\n",
    "      1. Using the `len()` function on a string (`\"Python\"`), a tuple (`(1, 2, 3)`), and a dictionary (`{\"name\": \"John\", \"age\": 30}`) and print their lengths.\n",
    "      2. Define three classes: `Dog`, `Cat`, and `Bird`. Each class should have a `speak` method that prints a unique sound. Create an instance of each class and use a loop to call their `speak` methods."
   ]
  },
  {
   "cell_type": "code",
   "execution_count": 44,
   "id": "deaaccec-4bd3-4830-b188-c5efd291e896",
   "metadata": {},
   "outputs": [
    {
     "name": "stdout",
     "output_type": "stream",
     "text": [
      "6\n",
      "3\n",
      "2\n"
     ]
    }
   ],
   "source": [
    "str = 'Python'\n",
    "print(len(str))\n",
    "tup = (1,2,3)\n",
    "print(len(tup))\n",
    "dict = {\"name\": \"John\", \"age\": 30}\n",
    "print(len(dict))"
   ]
  },
  {
   "cell_type": "markdown",
   "id": "11b230cf-617e-421c-a427-73ea72544d11",
   "metadata": {},
   "source": [
    "#### 4. File Handling: Creation, Reading, and Appending\n",
    "      1. Create a file named `notes.txt` and write `\"First Line\"` into it.\n",
    "      2. Open `notes.txt` and read its contents. Print the content to the console.\n",
    "      3. Append `\"Second Line\"` to `notes.txt`.\n",
    "      4. Open and read the updated contents of `notes.txt`, and print the results."
   ]
  },
  {
   "cell_type": "code",
   "execution_count": 46,
   "id": "4228bd98-da9b-4d11-a7ca-db5760a2663a",
   "metadata": {},
   "outputs": [],
   "source": [
    "with open('notes.txt', mode='w') as file:\n",
    "    file.write('First line')"
   ]
  },
  {
   "cell_type": "code",
   "execution_count": 50,
   "id": "44a65bbf-3087-4874-b984-1558912418f5",
   "metadata": {},
   "outputs": [
    {
     "name": "stdout",
     "output_type": "stream",
     "text": [
      "First line\n"
     ]
    }
   ],
   "source": [
    "with open('notes.txt', mode='r') as file:\n",
    "    contents = file.read()\n",
    "print(contents)"
   ]
  },
  {
   "cell_type": "code",
   "execution_count": 52,
   "id": "05e5cffa-3600-466c-90c9-9e7e4504d9ae",
   "metadata": {},
   "outputs": [],
   "source": [
    "with open('notes.txt', mode='a') as file:\n",
    "    file.write('Second line')"
   ]
  },
  {
   "cell_type": "code",
   "execution_count": 54,
   "id": "a085ebdd-4322-4cd7-b844-fcf69893e241",
   "metadata": {},
   "outputs": [
    {
     "name": "stdout",
     "output_type": "stream",
     "text": [
      "First lineSecond line\n"
     ]
    }
   ],
   "source": [
    "with open('notes.txt', mode='r') as file:\n",
    "    contents = file.read()\n",
    "print(contents)"
   ]
  },
  {
   "cell_type": "markdown",
   "id": "47615408-e936-47be-b8da-d3088161f0b9",
   "metadata": {},
   "source": [
    "#### 5. File Handling: Checking Existence and Deleting\n",
    "      1. Check if a file named `testfile.txt` exists in the current directory. If it does, delete the file and print `\"File deleted.\"`.\n",
    "      2. If `testfile.txt` does not exist, print `\"File does not exist.\"`."
   ]
  },
  {
   "cell_type": "code",
   "execution_count": 56,
   "id": "8da0a58f-ca7f-46f9-ba9e-1f28710ba45a",
   "metadata": {},
   "outputs": [
    {
     "name": "stdout",
     "output_type": "stream",
     "text": [
      "The file does not exist\n"
     ]
    }
   ],
   "source": [
    "import os\n",
    "if os.path.exists(\"testfile.txt\"):\n",
    "    os.remove(\"testfile.txt\")\n",
    "    print('File Deleted')\n",
    "else:\n",
    "    print(\"The file does not exist\")"
   ]
  },
  {
   "cell_type": "code",
   "execution_count": null,
   "id": "55f29c1c-ff5d-46c7-9db5-69bc827b3879",
   "metadata": {},
   "outputs": [],
   "source": []
  }
 ],
 "metadata": {
  "kernelspec": {
   "display_name": "Python [conda env:base] *",
   "language": "python",
   "name": "conda-base-py"
  },
  "language_info": {
   "codemirror_mode": {
    "name": "ipython",
    "version": 3
   },
   "file_extension": ".py",
   "mimetype": "text/x-python",
   "name": "python",
   "nbconvert_exporter": "python",
   "pygments_lexer": "ipython3",
   "version": "3.12.4"
  }
 },
 "nbformat": 4,
 "nbformat_minor": 5
}
