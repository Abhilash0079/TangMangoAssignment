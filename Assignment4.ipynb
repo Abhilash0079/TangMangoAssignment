{
 "cells": [
  {
   "cell_type": "markdown",
   "id": "185092e6-db2c-41c0-a42d-703087020d22",
   "metadata": {},
   "source": [
    "#### Question 1: If Statements\n",
    "\r\n",
    "\r\n",
    "Write an if statement to compare two variables, a and b. If b is greater than a, print a message saying \"b is greater than a\"."
   ]
  },
  {
   "cell_type": "code",
   "execution_count": 3,
   "id": "832076f8-d17e-4589-950b-5826f90bcd4a",
   "metadata": {},
   "outputs": [
    {
     "name": "stdout",
     "output_type": "stream",
     "text": [
      "b is greater than a\n"
     ]
    }
   ],
   "source": [
    "a = 23\n",
    "b = 30\n",
    "\n",
    "if b > a:\n",
    "    print(\"b is greater than a\")"
   ]
  },
  {
   "cell_type": "markdown",
   "id": "6866cbc6-67fb-45a5-8dc1-cd38106eb294",
   "metadata": {},
   "source": [
    "#### Question 2: If-Else Statements\n",
    "\r\n",
    "\r\n",
    "Write an if-else statement to compare two variables, a and b. If b is greater than a, print \"b is greater than a\". Otherwise, print \"a and b are equaya\"} and a list [\"kiwi\", \"orange\"]. Print the updated set."
   ]
  },
  {
   "cell_type": "code",
   "execution_count": 5,
   "id": "2c8fd46a-3e91-4b42-83b9-8d656f9de03b",
   "metadata": {},
   "outputs": [
    {
     "name": "stdout",
     "output_type": "stream",
     "text": [
      "a is equal to b\n",
      "['kiwi', 'orange']\n"
     ]
    }
   ],
   "source": [
    "a = 34\n",
    "b = 34\n",
    "new_list = [\"kiwi\", \"orange\"]\n",
    "if b>a:\n",
    "    print(\"b is greater than a\")\n",
    "else:\n",
    "    print(\"a is equal to b\")\n",
    "    print(new_list)"
   ]
  },
  {
   "cell_type": "markdown",
   "id": "6ec49314-e01e-4c41-8833-b64f2be13eeb",
   "metadata": {},
   "source": [
    "#### Question 3: If-Elif-Else Statements\n",
    "Write an if-elif-else statement to compare two variables, a and b. If b is greater than a, print \"b is greater than a\". If a and b are equal, print \"a and b are equal\". Otherwise, print \"a is greater than b\"."
   ]
  },
  {
   "cell_type": "code",
   "execution_count": 7,
   "id": "2aba2ee6-5372-40ea-9eca-97c6e0c889e2",
   "metadata": {},
   "outputs": [
    {
     "name": "stdout",
     "output_type": "stream",
     "text": [
      "a and b are equal\n"
     ]
    }
   ],
   "source": [
    "a = 45\n",
    "b = 45\n",
    "\n",
    "if b>a:\n",
    "    print(\"b is greater than a\")\n",
    "elif b == a:\n",
    "    print(\"a and b are equal\")\n",
    "else:\n",
    "    print(\"a is greater than b\")"
   ]
  },
  {
   "cell_type": "markdown",
   "id": "b21f255f-7917-4672-b4df-c05cf3c69c77",
   "metadata": {},
   "source": [
    "#### Question 4: Create and Access Tuple\n",
    "Create a tuple with the elements (\"apple\", \"banana\", \"cherry\"). Access and print the second element of the tuple."
   ]
  },
  {
   "cell_type": "code",
   "execution_count": 11,
   "id": "666bcfee-480a-48ba-b1a3-6348ff31d348",
   "metadata": {},
   "outputs": [
    {
     "name": "stdout",
     "output_type": "stream",
     "text": [
      "banana\n"
     ]
    }
   ],
   "source": [
    "tup1 = (\"apple\", \"banana\", \"cherry\")\n",
    "print(tup1[1])"
   ]
  },
  {
   "cell_type": "markdown",
   "id": "e3ff3284-9644-46d9-bd73-51f5a02f6eea",
   "metadata": {},
   "source": [
    "#### Question 5: Tuple with One Item\n",
    "Create a tuple with a single item \"apple\". Print the type of the tuple to confirm it's a tuple."
   ]
  },
  {
   "cell_type": "code",
   "execution_count": 13,
   "id": "c7a7b39d-12bc-4cc8-86ed-cac1f68001b0",
   "metadata": {},
   "outputs": [
    {
     "name": "stdout",
     "output_type": "stream",
     "text": [
      "<class 'tuple'>\n"
     ]
    }
   ],
   "source": [
    "tup2 = (\"apple\",)\n",
    "print(type(tup2))"
   ]
  },
  {
   "cell_type": "markdown",
   "id": "97d02b4e-64ec-49bc-bd1f-a24c893688c6",
   "metadata": {},
   "source": [
    "#### Question 6: Check if Item Exists in Tuple\n",
    "Create a tuple with the elements (\"apple\", \"banana\", \"cherry\"). Check if the item \"apple\" exists in the tuple and print the result."
   ]
  },
  {
   "cell_type": "code",
   "execution_count": 15,
   "id": "e72f6eca-a3e1-4e1c-ae39-02209d0674d3",
   "metadata": {},
   "outputs": [
    {
     "name": "stdout",
     "output_type": "stream",
     "text": [
      "Apple is in the tuple\n"
     ]
    }
   ],
   "source": [
    "tup3 = (\"apple\", \"banana\", \"cherry\")\n",
    "if \"apple\" in tup3:\n",
    "    print(\"Apple is in the tuple\")"
   ]
  },
  {
   "cell_type": "markdown",
   "id": "5f1fc092-3f3b-4778-9b15-0490f4a7d3b5",
   "metadata": {},
   "source": [
    "#### Question 7: Convert Tuple to List and Modify\n",
    "Convert a tuple (\"apple\", \"banana\", \"cherry\") to a list. Change the second item to \"kiwi\" and convert it back to a tuple. Print the modified tuple."
   ]
  },
  {
   "cell_type": "code",
   "execution_count": 17,
   "id": "804c77b0-9f8b-4bf6-8d98-298d69e33253",
   "metadata": {},
   "outputs": [
    {
     "name": "stdout",
     "output_type": "stream",
     "text": [
      "('apple', 'banana', 'cherry', 'kiwi')\n"
     ]
    }
   ],
   "source": [
    "tup_to_list = list(tup3)\n",
    "tup_to_list.append(\"kiwi\")\n",
    "list_to_tup = tuple(tup_to_list)\n",
    "print(list_to_tup)"
   ]
  },
  {
   "cell_type": "markdown",
   "id": "0c16f219-3d94-41a3-abde-fdae9f9dbda0",
   "metadata": {},
   "source": [
    "#### Question 8: Add and Remove Items from Set\n",
    "Create a set with the elements {\"apple\", \"banana\", \"cherry\"}. Add \"orange\" to the set and remove \"banana\". Print the modified set."
   ]
  },
  {
   "cell_type": "code",
   "execution_count": 19,
   "id": "ad96b062-74eb-43af-bdf0-f655f0acf085",
   "metadata": {},
   "outputs": [
    {
     "name": "stdout",
     "output_type": "stream",
     "text": [
      "{'orange', 'cherry', 'apple'}\n"
     ]
    }
   ],
   "source": [
    "set1 = {\"apple\", \"banana\", \"cherry\"}\n",
    "set1.add(\"orange\")\n",
    "set1.remove(\"banana\")\n",
    "print(set1)"
   ]
  },
  {
   "cell_type": "markdown",
   "id": "c05a8514-cf28-4461-bfc2-6703989ad2ca",
   "metadata": {},
   "source": [
    "#### Question 9: Loop Through Tuple\n",
    "Create a tuple with the elements (\"apple\", \"banana\", \"cherry\"). Use a for loop to print each item in the tuple."
   ]
  },
  {
   "cell_type": "code",
   "execution_count": 21,
   "id": "7699d474-b78c-4af3-9298-43aca5d7e913",
   "metadata": {},
   "outputs": [
    {
     "data": {
      "text/plain": [
       "('apple', 'banana', 'cherry')"
      ]
     },
     "execution_count": 21,
     "metadata": {},
     "output_type": "execute_result"
    }
   ],
   "source": [
    "tup3"
   ]
  },
  {
   "cell_type": "code",
   "execution_count": 23,
   "id": "38c5c53c-da32-437d-8900-095c6f866440",
   "metadata": {},
   "outputs": [
    {
     "name": "stdout",
     "output_type": "stream",
     "text": [
      "apple\n",
      "banana\n",
      "cherry\n"
     ]
    }
   ],
   "source": [
    "for item in tup3:\n",
    "    print(item)"
   ]
  },
  {
   "cell_type": "markdown",
   "id": "32dba3c3-5b0d-448c-a07d-ca87fbc3512e",
   "metadata": {},
   "source": [
    "#### Question 10:\n",
    "Create a set with the elements {\"apple\", \"banana\", \"cherry\"}. Update it with another set {\"pineapple\", \"mango\", \"papaya\"} and a list [\"kiwi\", \"orange\"]. Print the updated set."
   ]
  },
  {
   "cell_type": "code",
   "execution_count": 27,
   "id": "396b98e5-5dba-467e-8912-79388af0c510",
   "metadata": {},
   "outputs": [
    {
     "ename": "TypeError",
     "evalue": "set expected at most 1 argument, got 3",
     "output_type": "error",
     "traceback": [
      "\u001b[1;31m---------------------------------------------------------------------------\u001b[0m",
      "\u001b[1;31mTypeError\u001b[0m                                 Traceback (most recent call last)",
      "Cell \u001b[1;32mIn[27], line 2\u001b[0m\n\u001b[0;32m      1\u001b[0m set1 \u001b[38;5;241m=\u001b[39m {\u001b[38;5;124m\"\u001b[39m\u001b[38;5;124mapple\u001b[39m\u001b[38;5;124m\"\u001b[39m, \u001b[38;5;124m\"\u001b[39m\u001b[38;5;124mbanana\u001b[39m\u001b[38;5;124m\"\u001b[39m, \u001b[38;5;124m\"\u001b[39m\u001b[38;5;124mcherry\u001b[39m\u001b[38;5;124m\"\u001b[39m}\n\u001b[1;32m----> 2\u001b[0m set1\u001b[38;5;241m.\u001b[39madd(\u001b[38;5;28mset\u001b[39m(\u001b[38;5;124m\"\u001b[39m\u001b[38;5;124mpineapple\u001b[39m\u001b[38;5;124m\"\u001b[39m, \u001b[38;5;124m\"\u001b[39m\u001b[38;5;124mmango\u001b[39m\u001b[38;5;124m\"\u001b[39m, \u001b[38;5;124m\"\u001b[39m\u001b[38;5;124mpapaya\u001b[39m\u001b[38;5;124m\"\u001b[39m))\n\u001b[0;32m      3\u001b[0m set1\u001b[38;5;241m.\u001b[39madd([\u001b[38;5;124m\"\u001b[39m\u001b[38;5;124mkiwi\u001b[39m\u001b[38;5;124m\"\u001b[39m, \u001b[38;5;124m\"\u001b[39m\u001b[38;5;124morange\u001b[39m\u001b[38;5;124m\"\u001b[39m])\n\u001b[0;32m      4\u001b[0m \u001b[38;5;28mprint\u001b[39m(set1)\n",
      "\u001b[1;31mTypeError\u001b[0m: set expected at most 1 argument, got 3"
     ]
    }
   ],
   "source": [
    "set1 = {\"apple\", \"banana\", \"cherry\"}\n",
    "set1.add(set(\"pineapple\", \"mango\", \"papaya\"))\n",
    "set1.add([\"kiwi\", \"orange\"])\n",
    "print(set1)"
   ]
  },
  {
   "cell_type": "code",
   "execution_count": null,
   "id": "dd888ee3-2c9e-4517-8e86-9c0599332362",
   "metadata": {},
   "outputs": [],
   "source": []
  }
 ],
 "metadata": {
  "kernelspec": {
   "display_name": "Python [conda env:base] *",
   "language": "python",
   "name": "conda-base-py"
  },
  "language_info": {
   "codemirror_mode": {
    "name": "ipython",
    "version": 3
   },
   "file_extension": ".py",
   "mimetype": "text/x-python",
   "name": "python",
   "nbconvert_exporter": "python",
   "pygments_lexer": "ipython3",
   "version": "3.12.4"
  }
 },
 "nbformat": 4,
 "nbformat_minor": 5
}
