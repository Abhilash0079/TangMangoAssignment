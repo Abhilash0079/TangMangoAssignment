{
 "cells": [
  {
   "cell_type": "markdown",
   "id": "1bfefd45-0a1a-404f-b229-919f9d291167",
   "metadata": {},
   "source": [
    "#### Assignment :\r\n",
    "\r\n",
    "1. Create a variable `city` and assign the name of your favorite city to it. Print the variable.\r\n",
    "\r\n",
    "\r\n",
    "\r\n",
    "2. Print the data type of the variable `city`.\r\n",
    "\r\n",
    "\r\n",
    "\r\n",
    "3. Convert the integer `42` to a string and assign it to a new variable. Print the new variable.\r\n",
    "\r\n",
    "\r\n",
    "\r\n",
    "4. Use len() on your name variable and count lenght of your name\r\n",
    "\r\n",
    "\r\n",
    "5. use \" if \" statement to to check \"code\" word exist or not in \" code square\""
   ]
  },
  {
   "cell_type": "code",
   "execution_count": 9,
   "id": "1ca01eda-9702-4625-8738-d0d5e2ab0459",
   "metadata": {},
   "outputs": [
    {
     "name": "stdout",
     "output_type": "stream",
     "text": [
      "Barh\n"
     ]
    }
   ],
   "source": [
    "city = \"Barh\"\n",
    "print(city)"
   ]
  },
  {
   "cell_type": "code",
   "execution_count": 11,
   "id": "4a3bc1e2-3d87-4b2b-8fb1-a88bc14b1194",
   "metadata": {},
   "outputs": [
    {
     "name": "stdout",
     "output_type": "stream",
     "text": [
      "<class 'str'>\n"
     ]
    }
   ],
   "source": [
    "print(type(city))"
   ]
  },
  {
   "cell_type": "code",
   "execution_count": 13,
   "id": "c67c252b-9465-4a1b-bd7d-b9745e3c88b0",
   "metadata": {},
   "outputs": [
    {
     "name": "stdout",
     "output_type": "stream",
     "text": [
      "42\n"
     ]
    }
   ],
   "source": [
    "int_to_str = str(42)\n",
    "print(int_to_str)"
   ]
  },
  {
   "cell_type": "code",
   "execution_count": 15,
   "id": "14e7c136-7e4c-4c6b-8d7e-2b06bbf1a445",
   "metadata": {},
   "outputs": [
    {
     "name": "stdout",
     "output_type": "stream",
     "text": [
      "8\n"
     ]
    }
   ],
   "source": [
    "name = \"Abhilash\"\n",
    "print(len(name))"
   ]
  },
  {
   "cell_type": "code",
   "execution_count": 17,
   "id": "d4791c02-d506-42c1-a551-e00884a23516",
   "metadata": {},
   "outputs": [
    {
     "name": "stdout",
     "output_type": "stream",
     "text": [
      "Word Exists.\n"
     ]
    }
   ],
   "source": [
    "string = \"code square\"\n",
    "if \"code\" in string:\n",
    "    print(\"Word Exists.\")\n",
    "else:\n",
    "    print(\"Word Doesn't Exist.\")"
   ]
  },
  {
   "cell_type": "code",
   "execution_count": null,
   "id": "289121e1-fe71-45c9-a4e1-442f6dbba920",
   "metadata": {},
   "outputs": [],
   "source": []
  }
 ],
 "metadata": {
  "kernelspec": {
   "display_name": "Python [conda env:base] *",
   "language": "python",
   "name": "conda-base-py"
  },
  "language_info": {
   "codemirror_mode": {
    "name": "ipython",
    "version": 3
   },
   "file_extension": ".py",
   "mimetype": "text/x-python",
   "name": "python",
   "nbconvert_exporter": "python",
   "pygments_lexer": "ipython3",
   "version": "3.12.4"
  }
 },
 "nbformat": 4,
 "nbformat_minor": 5
}
