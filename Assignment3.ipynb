{
 "cells": [
  {
   "cell_type": "markdown",
   "id": "b62cecf7-64ef-4707-a934-afef474d6ce2",
   "metadata": {},
   "source": [
    "#### 1) demonstrate the use of the following arithmetic operators in Python on any numbers:\r",
    "### \n",
    "\r\n",
    "Addition, Subtraction, Multiplication, Division, Modulus, Exponentiation, Floor Division."
   ]
  },
  {
   "cell_type": "code",
   "execution_count": 5,
   "id": "a2037ca0-fb0e-41e2-8df6-6c7deac5ab1f",
   "metadata": {},
   "outputs": [],
   "source": [
    "num1  = 40\n",
    "num2 = 5"
   ]
  },
  {
   "cell_type": "code",
   "execution_count": 11,
   "id": "9d8b61dc-a451-4e91-89c0-3ba06fd57598",
   "metadata": {},
   "outputs": [],
   "source": [
    "#### Addition\n",
    "final_sum = num1 + num2\n",
    "#### Subtraction\n",
    "final_sub = num1 - num2\n",
    "#### Multiplication\n",
    "final_mul = num1 * num2\n",
    "#### Division\n",
    "final_div = num1 / num2\n",
    "#### Modulus\n",
    "final_mod = num1 % num2\n",
    "#### Exponential\n",
    "final_expo = num1 ** num2\n",
    "#### Floor Divison\n",
    "final_floor = num1 // num2"
   ]
  },
  {
   "cell_type": "code",
   "execution_count": 13,
   "id": "df1fb70c-302f-40c3-b85b-fb3be017c63a",
   "metadata": {},
   "outputs": [
    {
     "name": "stdout",
     "output_type": "stream",
     "text": [
      "40 + 5 = 45\n",
      "40 - 5 = 35\n",
      "40 * 5 = 200\n",
      "40 / 5 = 8.0\n",
      "40 % 5 = 0\n",
      "40 ** 5 = 102400000\n",
      "40 // 5 = 8\n"
     ]
    }
   ],
   "source": [
    "print(f'{num1} + {num2} = {final_sum}')\n",
    "print(f'{num1} - {num2} = {final_sub}')\n",
    "print(f'{num1} * {num2} = {final_mul}')\n",
    "print(f'{num1} / {num2} = {final_div}')\n",
    "print(f'{num1} % {num2} = {final_mod}')\n",
    "print(f'{num1} ** {num2} = {final_expo}')\n",
    "print(f'{num1} // {num2} = {final_floor}')"
   ]
  },
  {
   "cell_type": "markdown",
   "id": "5560dbda-c1bb-4f1f-90f3-88a4d6157bfe",
   "metadata": {},
   "source": [
    "#### 2) Write Python expressions using comparison operators (less than, greater than, equal to, not equal to) and evaluate them. Include examples with both numbers and strings."
   ]
  },
  {
   "cell_type": "code",
   "execution_count": 16,
   "id": "4269bf9e-5306-4536-bee2-8f415ba2d16a",
   "metadata": {},
   "outputs": [
    {
     "name": "stdout",
     "output_type": "stream",
     "text": [
      "True\n",
      "False\n",
      "False\n",
      "True\n"
     ]
    }
   ],
   "source": [
    "print(num1>num2)\n",
    "print(num1<num2)\n",
    "print(num1==num2)\n",
    "print(num1!=num2)"
   ]
  },
  {
   "cell_type": "code",
   "execution_count": 18,
   "id": "563f5dd6-d6ed-4cd8-9aad-09f1648d0526",
   "metadata": {},
   "outputs": [
    {
     "name": "stdout",
     "output_type": "stream",
     "text": [
      "False\n",
      "True\n"
     ]
    }
   ],
   "source": [
    "print('a'=='A')\n",
    "print('s' != 'S')"
   ]
  },
  {
   "cell_type": "markdown",
   "id": "e5c4058f-77dc-4d86-a4c0-5e171ba212b3",
   "metadata": {},
   "source": [
    "#### 3) Create a string variable and use the ' in ' and ' not in ' keywords to check for the presence or absence of a substring within the string EX : \" Python Is Powerfull language\". & Print the results."
   ]
  },
  {
   "cell_type": "code",
   "execution_count": 21,
   "id": "961cc4db-919e-4552-acfd-fbb5a6bba205",
   "metadata": {},
   "outputs": [
    {
     "name": "stdout",
     "output_type": "stream",
     "text": [
      "True\n",
      "True\n"
     ]
    }
   ],
   "source": [
    "s = \"Python Is Powerfull language\"\n",
    "\n",
    "print('Python' in s)\n",
    "print('powerfull' not in s)"
   ]
  },
  {
   "cell_type": "markdown",
   "id": "7d928609-9d8e-4a8a-9f2b-6bbb48cac9cc",
   "metadata": {},
   "source": [
    "#### 4) Define a list with at least three elements. Use a for loop to print each element of the list."
   ]
  },
  {
   "cell_type": "code",
   "execution_count": 24,
   "id": "dd50bf8b-6808-4ce9-8b67-cfd2913d1661",
   "metadata": {},
   "outputs": [
    {
     "name": "stdout",
     "output_type": "stream",
     "text": [
      "4\n",
      "7\n",
      "10\n"
     ]
    }
   ],
   "source": [
    "list1 = [4,7,10]\n",
    "\n",
    "for i in list1:\n",
    "    print(i)"
   ]
  },
  {
   "cell_type": "markdown",
   "id": "051240c5-4997-432f-a651-127a5d0e4457",
   "metadata": {},
   "source": [
    "#### 5) Use the range() function to print numbers from 10 to 1 using a for loop."
   ]
  },
  {
   "cell_type": "code",
   "execution_count": 35,
   "id": "89596fce-f869-4148-8061-c4a92eae7109",
   "metadata": {},
   "outputs": [
    {
     "name": "stdout",
     "output_type": "stream",
     "text": [
      "10,9,8,7,6,5,4,3,2,1,"
     ]
    }
   ],
   "source": [
    "for i in range(10,0,-1):\n",
    "    print(i, end=',')"
   ]
  },
  {
   "cell_type": "markdown",
   "id": "cd329e34-3c9a-4bbf-aa20-ba6e7559cf27",
   "metadata": {},
   "source": [
    "#### 6) Create a string variable and demonstrate the following string methods: slicing, negative indexing, converting to uppercase converting to lowercase, stripping whitespace, replacing a substring, and splitting the string."
   ]
  },
  {
   "cell_type": "code",
   "execution_count": 38,
   "id": "5668ad05-0049-4472-ba3d-a4aa8e64ba47",
   "metadata": {},
   "outputs": [
    {
     "name": "stdout",
     "output_type": "stream",
     "text": [
      "lo Abh\n",
      "\n",
      "HELLO ABHILASH\n",
      "Hello Abhilash\n",
      "Hello Harshika\n",
      "['Hello', 'Abhilash']\n"
     ]
    }
   ],
   "source": [
    "new_str = \"Hello Abhilash\"\n",
    "print(new_str[3:9])\n",
    "print(new_str[-1:-8])\n",
    "print(new_str.upper())\n",
    "print(new_str.strip())\n",
    "print(new_str.replace(\"Abhilash\", 'Harshika'))\n",
    "print(new_str.split(' '))\n"
   ]
  },
  {
   "cell_type": "markdown",
   "id": "6c05edf7-36ba-4bb0-93c4-45a38ff5efdd",
   "metadata": {},
   "source": [
    "#### 7) Create a list inside list with at least five elements of different data types. Print the list."
   ]
  },
  {
   "cell_type": "code",
   "execution_count": 46,
   "id": "57459c7e-d902-4b32-8aa6-abd5fef98fa7",
   "metadata": {},
   "outputs": [
    {
     "name": "stdout",
     "output_type": "stream",
     "text": [
      "[1, False, 3.5, ['A', 'B', 'C'], True, 'Ram', 2, 'Shyam', 5, 6.7]\n"
     ]
    }
   ],
   "source": [
    "nested_list = [1,False,3.5,['A','B','C'],True,'Ram', 2, \"Shyam\", 5, 6.7]\n",
    "print(nested_list)"
   ]
  },
  {
   "cell_type": "markdown",
   "id": "219bf91c-d7dd-4d45-a7a1-ed93f22c9ae6",
   "metadata": {},
   "source": [
    "#### 8) Access and print same item from the list using both positive and negative indexing."
   ]
  },
  {
   "cell_type": "code",
   "execution_count": 56,
   "id": "fce5b1c3-133b-4598-af92-becc7d922302",
   "metadata": {},
   "outputs": [
    {
     "name": "stdout",
     "output_type": "stream",
     "text": [
      "[False, 3.5, ['A', 'B', 'C'], True, 'Ram']\n",
      "[1, False, 3.5, ['A', 'B', 'C'], True, 'Ram', 2, 'Shyam', 5]\n",
      "[2, 'Shyam', 5]\n"
     ]
    }
   ],
   "source": [
    "print(nested_list[1:6])\n",
    "print(nested_list[:9])\n",
    "print(nested_list[-4:-1])"
   ]
  },
  {
   "cell_type": "markdown",
   "id": "8284d2f6-2ed9-4b6e-8a30-776496592c46",
   "metadata": {},
   "source": [
    "#### 9) Modify elements of a list by using the append(), insert(), remove(), pop(), and del methods. Print the list after each operation."
   ]
  },
  {
   "cell_type": "code",
   "execution_count": 58,
   "id": "b1c0c830-2fbd-422b-afdc-662cd5adb4d1",
   "metadata": {},
   "outputs": [
    {
     "name": "stdout",
     "output_type": "stream",
     "text": [
      "[1, False, 3.5, ['A', 'B', 'C'], True, 'Ram', 2, 'Shyam', 5, 6.7, 9]\n",
      "[1, False, 3.5, 'HELLO', ['A', 'B', 'C'], True, 'Ram', 2, 'Shyam', 5, 6.7, 9]\n",
      "[1, False, 3.5, 'HELLO', ['A', 'B', 'C'], True, 'Ram', 2, 'Shyam', 6.7, 9]\n",
      "[1, False, 3.5, 'HELLO', ['A', 'B', 'C'], True, 'Ram', 2, 'Shyam', 6.7]\n"
     ]
    },
    {
     "ename": "NameError",
     "evalue": "name 'nested_list' is not defined",
     "output_type": "error",
     "traceback": [
      "\u001b[1;31m---------------------------------------------------------------------------\u001b[0m",
      "\u001b[1;31mNameError\u001b[0m                                 Traceback (most recent call last)",
      "Cell \u001b[1;32mIn[58], line 10\u001b[0m\n\u001b[0;32m      8\u001b[0m \u001b[38;5;28mprint\u001b[39m(nested_list)\n\u001b[0;32m      9\u001b[0m \u001b[38;5;28;01mdel\u001b[39;00m nested_list\n\u001b[1;32m---> 10\u001b[0m \u001b[38;5;28mprint\u001b[39m(nested_list)\n",
      "\u001b[1;31mNameError\u001b[0m: name 'nested_list' is not defined"
     ]
    }
   ],
   "source": [
    "nested_list.append(9)\n",
    "print(nested_list)\n",
    "nested_list.insert(3, \"HELLO\")\n",
    "print(nested_list)\n",
    "nested_list.remove(5)\n",
    "print(nested_list)\n",
    "nested_list.pop()\n",
    "print(nested_list)\n",
    "del nested_list\n",
    "print(nested_list)"
   ]
  },
  {
   "cell_type": "markdown",
   "id": "09e9a4d4-b876-4464-b547-6e3b2eb3df52",
   "metadata": {},
   "source": [
    "#### 10) Join two lists and print the all item using for loop and also check is \"data\" present in list using \"if else\" statement. list_1 = [ 1,2,3,4,\"power\", True] and list_2= [\"one\", \"two\",\"Three\", \"Data\", False]\r\n",
    "\r\n"
   ]
  },
  {
   "cell_type": "code",
   "execution_count": 62,
   "id": "a50b4540-fc00-428a-aea0-57ac41de665e",
   "metadata": {},
   "outputs": [
    {
     "name": "stdout",
     "output_type": "stream",
     "text": [
      "1, 2, 3, 4, power, True, one, two, Three, Data, False, False\n"
     ]
    }
   ],
   "source": [
    "list_1 = [1,2,3,4,\"power\", True] \n",
    "list_2= [\"one\", \"two\",\"Three\", \"Data\", False]\n",
    "new_list = list_1 + list_2\n",
    "for i in new_list:\n",
    "    print(i, end=\", \")\n",
    "\n",
    "if 'three' not in new_list:\n",
    "    print(\"False\")\n",
    "else:\n",
    "    print(\"True\")\n"
   ]
  },
  {
   "cell_type": "code",
   "execution_count": null,
   "id": "016cbcfb-6420-4538-afed-97b5cee3ae54",
   "metadata": {},
   "outputs": [],
   "source": []
  }
 ],
 "metadata": {
  "kernelspec": {
   "display_name": "Python [conda env:base] *",
   "language": "python",
   "name": "conda-base-py"
  },
  "language_info": {
   "codemirror_mode": {
    "name": "ipython",
    "version": 3
   },
   "file_extension": ".py",
   "mimetype": "text/x-python",
   "name": "python",
   "nbconvert_exporter": "python",
   "pygments_lexer": "ipython3",
   "version": "3.12.4"
  }
 },
 "nbformat": 4,
 "nbformat_minor": 5
}
