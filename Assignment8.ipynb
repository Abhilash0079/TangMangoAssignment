{
 "cells": [
  {
   "cell_type": "markdown",
   "id": "2279715a-b624-403b-8b6f-ccc74c2c7f12",
   "metadata": {},
   "source": [
    "#### 1) Write a Python program that attempts to divide a number by zero within a try block. Catch the resulting ZeroDivisionError and print a custom message.ot be negative\"."
   ]
  },
  {
   "cell_type": "code",
   "execution_count": 14,
   "id": "84767030-0107-4461-9eda-99bef7633753",
   "metadata": {},
   "outputs": [
    {
     "name": "stdin",
     "output_type": "stream",
     "text": [
      "Enter the first number:  6\n",
      "Enter the second number:  3\n"
     ]
    },
    {
     "name": "stdout",
     "output_type": "stream",
     "text": [
      "2.0\n"
     ]
    }
   ],
   "source": [
    "num1 = int(input(\"Enter the first number: \"))\n",
    "num2 = int(input(\"Enter the second number: \"))\n",
    "try:\n",
    "    res = num1/num2\n",
    "    print(res)\n",
    "except ZeroDivisionError:\n",
    "    print(\"Second number should not be zero.\")\n"
   ]
  },
  {
   "cell_type": "markdown",
   "id": "214f96cc-9ea7-48bc-b785-c62cd82c0b70",
   "metadata": {},
   "source": [
    "#### 2) Write a Python program that attempts to print an undefined variable within a try block. Catch the resulting NameError and print \"Variable is not defined\"."
   ]
  },
  {
   "cell_type": "code",
   "execution_count": 16,
   "id": "7fded2ed-50ab-441c-9fe7-55b4a82eb099",
   "metadata": {},
   "outputs": [
    {
     "name": "stdout",
     "output_type": "stream",
     "text": [
      "Variable x is not defined\n"
     ]
    }
   ],
   "source": [
    "try:\n",
    "    res = x /5\n",
    "    print(res)\n",
    "except NameError:\n",
    "    print(\"Variable x is not defined\")"
   ]
  },
  {
   "cell_type": "markdown",
   "id": "aa43a7dc-919e-48db-8a48-6ab5fe2f22bf",
   "metadata": {},
   "source": [
    "#### 3) Write a Python program that attempts to open a non-existent file. Catch the resulting FileNotFoundError, print an error message, and ensure that a finally block prints \"Operation finished\" regardless of the outcome."
   ]
  },
  {
   "cell_type": "code",
   "execution_count": 24,
   "id": "ee9b1895-df61-461f-bc9f-c4d29610d399",
   "metadata": {},
   "outputs": [
    {
     "name": "stdout",
     "output_type": "stream",
     "text": [
      "File doesn't exist.\n",
      "Operation Finished\n"
     ]
    }
   ],
   "source": [
    "try:\n",
    "    with open('file.txt', mode='r') as file:\n",
    "        contents = file.read()\n",
    "        print(contents)\n",
    "except FileNotFoundError:\n",
    "    print(\"File doesn't exist.\")\n",
    "finally:\n",
    "    print(\"Operation Finished\")"
   ]
  },
  {
   "cell_type": "markdown",
   "id": "c45b328b-6b3a-4807-b89b-7b40e291cca5",
   "metadata": {},
   "source": [
    "#### 4) Write a Python program that uses a try block to check if a number is positive. If the number is positive, use the else block to print \"The number is positive\". Catch any exceptions that occur during the check."
   ]
  },
  {
   "cell_type": "code",
   "execution_count": 39,
   "id": "09bfd5fc-2d20-4094-a9d3-226637971d5b",
   "metadata": {},
   "outputs": [
    {
     "name": "stdin",
     "output_type": "stream",
     "text": [
      "Enter the number :  -6\n"
     ]
    },
    {
     "name": "stdout",
     "output_type": "stream",
     "text": [
      "Number is negative\n"
     ]
    }
   ],
   "source": [
    "num = int(input(\"Enter the number : \"))\n",
    "try:\n",
    "    assert num > 0\n",
    "except AssertionError:\n",
    "    print(\"Number is negative\")\n",
    "else:\n",
    "    print(\"Number is positive\")"
   ]
  },
  {
   "cell_type": "markdown",
   "id": "cdf56967-bdc6-4a23-8ae1-f2a791d16925",
   "metadata": {},
   "source": [
    "#### 5) Write a Python program that raises a ValueError if a variable age is set to a negative number. Include a custom error message that states \"Age cannot be negative\"."
   ]
  },
  {
   "cell_type": "code",
   "execution_count": 26,
   "id": "f5b9e97c-3c53-497f-9446-5bc3c0a56bc3",
   "metadata": {},
   "outputs": [
    {
     "name": "stdin",
     "output_type": "stream",
     "text": [
      "Enter the age  -5\n"
     ]
    },
    {
     "ename": "ValueError",
     "evalue": "Age cannot be negative",
     "output_type": "error",
     "traceback": [
      "\u001b[1;31m---------------------------------------------------------------------------\u001b[0m",
      "\u001b[1;31mValueError\u001b[0m                                Traceback (most recent call last)",
      "Cell \u001b[1;32mIn[26], line 3\u001b[0m\n\u001b[0;32m      1\u001b[0m age \u001b[38;5;241m=\u001b[39m \u001b[38;5;28mint\u001b[39m(\u001b[38;5;28minput\u001b[39m(\u001b[38;5;124m\"\u001b[39m\u001b[38;5;124mEnter the age \u001b[39m\u001b[38;5;124m\"\u001b[39m))\n\u001b[0;32m      2\u001b[0m \u001b[38;5;28;01mif\u001b[39;00m age \u001b[38;5;241m<\u001b[39m \u001b[38;5;241m0\u001b[39m:\n\u001b[1;32m----> 3\u001b[0m     \u001b[38;5;28;01mraise\u001b[39;00m \u001b[38;5;167;01mValueError\u001b[39;00m(\u001b[38;5;124m\"\u001b[39m\u001b[38;5;124mAge cannot be negative\u001b[39m\u001b[38;5;124m\"\u001b[39m)\n",
      "\u001b[1;31mValueError\u001b[0m: Age cannot be negative"
     ]
    }
   ],
   "source": [
    "age = int(input(\"Enter the age \"))\n",
    "if age < 0:\n",
    "    raise ValueError(\"Age cannot be negative\")"
   ]
  },
  {
   "cell_type": "code",
   "execution_count": null,
   "id": "785f700c-f480-4d04-be87-68e1e87b40ba",
   "metadata": {},
   "outputs": [],
   "source": []
  }
 ],
 "metadata": {
  "kernelspec": {
   "display_name": "Python [conda env:base] *",
   "language": "python",
   "name": "conda-base-py"
  },
  "language_info": {
   "codemirror_mode": {
    "name": "ipython",
    "version": 3
   },
   "file_extension": ".py",
   "mimetype": "text/x-python",
   "name": "python",
   "nbconvert_exporter": "python",
   "pygments_lexer": "ipython3",
   "version": "3.12.4"
  }
 },
 "nbformat": 4,
 "nbformat_minor": 5
}
