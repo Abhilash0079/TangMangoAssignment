{
 "cells": [
  {
   "cell_type": "markdown",
   "id": "1d9b4275-e518-4639-aab3-90fc174735e8",
   "metadata": {},
   "source": [
    "#### 1) Write a lambda function to calculate the square of a number. Use it to print the square of 8.tions and print the results.\r\n",
    "\r\n"
   ]
  },
  {
   "cell_type": "code",
   "execution_count": 27,
   "id": "943d4c9e-e7e9-4730-ae2b-40f186e4a2d7",
   "metadata": {},
   "outputs": [
    {
     "name": "stdout",
     "output_type": "stream",
     "text": [
      "64\n"
     ]
    }
   ],
   "source": [
    "square = lambda x: x**2\n",
    "\n",
    "print(square(8))"
   ]
  },
  {
   "cell_type": "markdown",
   "id": "26a7c58e-6269-47be-96f8-856abce11b44",
   "metadata": {},
   "source": [
    "#### 2) Create a lambda function to multiply three arguments. Use it to multiply 3, 4, and 5, then print the result."
   ]
  },
  {
   "cell_type": "code",
   "execution_count": 29,
   "id": "36f0749b-96c8-4c0c-a457-51f67afb133e",
   "metadata": {},
   "outputs": [
    {
     "name": "stdout",
     "output_type": "stream",
     "text": [
      "60\n"
     ]
    }
   ],
   "source": [
    "mul_three = lambda x,y,z:x*y*z\n",
    "print(mul_three(3,4,5))"
   ]
  },
  {
   "cell_type": "markdown",
   "id": "a3f35d52-ef9b-4be8-bc83-3e9c3e6d0899",
   "metadata": {},
   "source": [
    "#### 3) Write a lambda function to find the maximum of two numbers. Use it to find the maximum between 10 and 20 and print the result."
   ]
  },
  {
   "cell_type": "code",
   "execution_count": 31,
   "id": "35c32f6d-8ef9-4fa9-8e6d-d4ebf4903a1e",
   "metadata": {},
   "outputs": [
    {
     "name": "stdout",
     "output_type": "stream",
     "text": [
      "20\n"
     ]
    }
   ],
   "source": [
    "max_num = lambda x, y : max(x,y)\n",
    "print(max_num(10,20))"
   ]
  },
  {
   "cell_type": "markdown",
   "id": "a798da04-8f75-4319-adab-c2d5df996846",
   "metadata": {},
   "source": [
    "#### 4) Create a list of integers and use a lambda function with the filter method to filter out even numbers. Print the resulting list."
   ]
  },
  {
   "cell_type": "code",
   "execution_count": 37,
   "id": "8b1e0830-226c-4685-a426-04c47817c5e3",
   "metadata": {},
   "outputs": [
    {
     "name": "stdout",
     "output_type": "stream",
     "text": [
      "[4, 6, 8]\n"
     ]
    }
   ],
   "source": [
    "int_list = [4,5,6,7,8,9]\n",
    "even_list = list(filter(lambda x : x % 2 == 0, int_list))\n",
    "print(even_list)"
   ]
  },
  {
   "cell_type": "markdown",
   "id": "fac9bf50-7196-428a-aa08-bc082edf0bff",
   "metadata": {},
   "source": [
    "#### 5) Create a class named Animal with an __init__ method that initializes species and name. Instantiate an object of this class with species \"Dog\" and name \"Buddy\", then print the species and name."
   ]
  },
  {
   "cell_type": "code",
   "execution_count": 39,
   "id": "e85c90ba-d4a3-4f65-8dfa-f67cb13c8ee8",
   "metadata": {},
   "outputs": [
    {
     "name": "stdout",
     "output_type": "stream",
     "text": [
      "Dog\n",
      "Buddy\n"
     ]
    }
   ],
   "source": [
    "class Animal:\n",
    "    def __init__(self, species, name):\n",
    "        self.species = species\n",
    "        self.name = name\n",
    "\n",
    "animal = Animal(\"Dog\", \"Buddy\")\n",
    "print(animal.species)\n",
    "print(animal.name)"
   ]
  },
  {
   "cell_type": "markdown",
   "id": "7766f67c-04c4-4bcd-ab10-fd12db87b54d",
   "metadata": {},
   "source": [
    "#### 6) Create a class named Car with attributes for brand, model, and year. Add a method car_info that prints a formatted string with this information. Create an instance of the Car class and call the car_info method."
   ]
  },
  {
   "cell_type": "code",
   "execution_count": 41,
   "id": "444ce894-4ff1-4ae0-8f47-8ddfef3a8668",
   "metadata": {},
   "outputs": [
    {
     "name": "stdout",
     "output_type": "stream",
     "text": [
      "Car brand is Toyota.\n",
      "Car model is Ertiga.\n",
      "Manufactured in 2020.\n"
     ]
    }
   ],
   "source": [
    "class Car:\n",
    "    def __init__(self, brand, model, year):\n",
    "        self.brand = brand\n",
    "        self.model = model\n",
    "        self.year = year\n",
    "\n",
    "    def car_info(self):\n",
    "        print(f'Car brand is {self.brand}.\\nCar model is {self.model}.\\nManufactured in {self.year}.')\n",
    "\n",
    "car = Car('Toyota', 'Ertiga', 2020)\n",
    "car.car_info()"
   ]
  },
  {
   "cell_type": "markdown",
   "id": "1b43cd7e-b2e5-4dd0-8bd2-1daee4bfffe7",
   "metadata": {},
   "source": [
    "#### 7) Create a class named Person with an __init__ method and a method introduce that prints a greeting including the person's name. Instantiate an object with the name \"Alice\" and call the introduce method."
   ]
  },
  {
   "cell_type": "code",
   "execution_count": 47,
   "id": "d03d80e7-c066-413e-a295-ce859f641083",
   "metadata": {},
   "outputs": [
    {
     "name": "stdout",
     "output_type": "stream",
     "text": [
      "Hello Alice\n"
     ]
    }
   ],
   "source": [
    "class Person:\n",
    "    def __init__(self, name):\n",
    "        self.name = name\n",
    "\n",
    "    def greet(self):\n",
    "        return f'Hello {self.name}'\n",
    "\n",
    "person = Person(\"Alice\")\n",
    "print(person.greet())"
   ]
  },
  {
   "cell_type": "markdown",
   "id": "7830422c-65eb-4b61-934f-6b75be1e7ec6",
   "metadata": {},
   "source": [
    "#### 8) Create a class named Student with attributes for name and grades (a list of grades). Add a method average_grade that returns the average of the grades. Create an instance of the Student class, add some grades, and print the average grade."
   ]
  },
  {
   "cell_type": "code",
   "execution_count": 60,
   "id": "fafe4fc8-599b-4fd7-b9cf-e8303959215c",
   "metadata": {},
   "outputs": [
    {
     "name": "stdout",
     "output_type": "stream",
     "text": [
      "Student Abhilash has grade 92.8.\n"
     ]
    }
   ],
   "source": [
    "class Student:\n",
    "    def __init__(self, name, *grades):\n",
    "        self.name = name\n",
    "        self.grades = grades\n",
    "        \n",
    "    def average_grade(self):\n",
    "        return (sum(self.grades)/ len(self.grades))\n",
    "\n",
    "student1 = Student(\"Abhilash\", 85,88,100,94,97)\n",
    "print(f'Student {student1.name} has grade {student1.average_grade()}.')\n",
    "    "
   ]
  },
  {
   "cell_type": "markdown",
   "id": "92800826-c6bc-406f-8c32-c1081848f496",
   "metadata": {},
   "source": [
    "#### 9) Create a class named Book with attributes for title, author, and year_published. Add a method book_age that calculates how old the book is from the current year. Create an instance of the Book class and print the age of the book."
   ]
  },
  {
   "cell_type": "code",
   "execution_count": 72,
   "id": "a62ae234-3fb5-4d3a-81e1-b6660d5c2806",
   "metadata": {},
   "outputs": [
    {
     "name": "stdout",
     "output_type": "stream",
     "text": [
      "The age of the book Harry Potter which is written by J K Rowling is 30 years.\n"
     ]
    }
   ],
   "source": [
    "class Book:\n",
    "    def __init__(self, title, author, year_published):\n",
    "        self.title = title\n",
    "        self.author = author\n",
    "        self.year = year_published\n",
    "\n",
    "    def book_age(self, current_year):\n",
    "        return current_year - self.year\n",
    "\n",
    "book = Book(\"Harry Potter\", \"J K Rowling\", 1995)\n",
    "print(f'The age of the book {book.title} which is written by {book.author} is {book.book_age(2025)} years.')"
   ]
  },
  {
   "cell_type": "markdown",
   "id": "516068a5-82a1-4259-aa6c-ef59ff2002d5",
   "metadata": {},
   "source": [
    "#### 10) Write a BankAccount class with attributes for owner and balance. Add methods for deposit and withdraw. Create an instance and perform some deposits and withdrawals, then print the final balance."
   ]
  },
  {
   "cell_type": "code",
   "execution_count": 80,
   "id": "17a84d5c-1289-4867-970a-7e539e40b75e",
   "metadata": {},
   "outputs": [
    {
     "name": "stdout",
     "output_type": "stream",
     "text": [
      "Not Sufficient Balance\n",
      "Amount 40000 has successfully deposited.\n",
      "Amount 75000 has withdrawn successfully.\n",
      "Abhilash has 15000 amount in his account.\n"
     ]
    }
   ],
   "source": [
    "class BankAccount:\n",
    "    def __init__(self, name, balance):\n",
    "        self.name = name\n",
    "        self.balance = balance\n",
    "\n",
    "    def withdraw(self, amount):\n",
    "        if amount > self.balance:\n",
    "            print('Not Sufficient Balance')\n",
    "        else:\n",
    "            self.balance-=amount\n",
    "            print(f'Amount {amount} has withdrawn successfully.')\n",
    "\n",
    "    def deposit(self, amount):\n",
    "        self.balance += amount\n",
    "        print(f'Amount {amount} has successfully deposited.')\n",
    "\n",
    "    def msg_print(self):\n",
    "        return f'{self.name} has {self.balance} amount in his account.'\n",
    "\n",
    "account1 = BankAccount(\"Abhilash\", 50000)\n",
    "account1.withdraw(60000)\n",
    "account1.deposit(40000)\n",
    "account1.withdraw(75000)\n",
    "print(account1.msg_print())"
   ]
  },
  {
   "cell_type": "markdown",
   "id": "26d042d5-ceb7-4613-a8cb-8ebf9f9084a2",
   "metadata": {},
   "source": [
    "#### 11) Create a Calculator class with methods for addition, subtraction, multiplication, and division. Use this class to perform a series of calculations and print the results."
   ]
  },
  {
   "cell_type": "code",
   "execution_count": 82,
   "id": "9e47368b-d899-4e2b-be6e-ebba214cc46e",
   "metadata": {},
   "outputs": [
    {
     "name": "stdout",
     "output_type": "stream",
     "text": [
      "30\n",
      "-10\n",
      "200\n",
      "0.5\n"
     ]
    }
   ],
   "source": [
    "class Calculator:\n",
    "    \n",
    "    def __init__(self):\n",
    "        pass\n",
    "    def add(self,num1,num2):\n",
    "        return num1 + num2\n",
    "    \n",
    "    def sub(self,num1,num2):\n",
    "        return num1 - num2\n",
    "    \n",
    "    def multiply(self,num1,num2):        \n",
    "        return num1 * num2\n",
    "    \n",
    "    def divide(self,num1,num2):\n",
    "        return num1 / num2\n",
    "    \n",
    "    \n",
    "c1=Calculator()\n",
    "\n",
    "print(c1.add(10,20))\n",
    "print(c1.sub(10,20))\n",
    "print(c1.multiply(10,20))\n",
    "print(c1.divide(10,20))"
   ]
  }
 ],
 "metadata": {
  "kernelspec": {
   "display_name": "Python [conda env:base] *",
   "language": "python",
   "name": "conda-base-py"
  },
  "language_info": {
   "codemirror_mode": {
    "name": "ipython",
    "version": 3
   },
   "file_extension": ".py",
   "mimetype": "text/x-python",
   "name": "python",
   "nbconvert_exporter": "python",
   "pygments_lexer": "ipython3",
   "version": "3.12.4"
  }
 },
 "nbformat": 4,
 "nbformat_minor": 5
}
