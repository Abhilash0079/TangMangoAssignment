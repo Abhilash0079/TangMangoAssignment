{
 "cells": [
  {
   "cell_type": "markdown",
   "id": "a8134815-274d-40ef-8df3-dd66c1ef1aaf",
   "metadata": {},
   "source": [
    "#### 1.) Create a base class `Animal` with attributes `name` and `species`, and a method `describe` to print them. Create a derived class `Dog` with an additional attribute `breed` and a method `bark` to print \"Woof! Woof!\". Instantiate a `Dog` object and call its methods."
   ]
  },
  {
   "cell_type": "code",
   "execution_count": 2,
   "id": "b3e85c13-9de1-4c37-9ccf-efa939a53f02",
   "metadata": {},
   "outputs": [
    {
     "name": "stdout",
     "output_type": "stream",
     "text": [
      "Name: Jenny\n",
      "Species: German Sphered\n",
      "Woof! Woof!\n"
     ]
    }
   ],
   "source": [
    "class Animal:\n",
    "    def __init__(self, name, species):\n",
    "        self.name = name\n",
    "        self.species = species\n",
    "    def describe(self):\n",
    "        return f'Name: {self.name}\\nSpecies: {self.species}'\n",
    "\n",
    "\n",
    "class Dog(Animal):\n",
    "    def __init__(self, name, species, breed):\n",
    "        super().__init__(name, species)\n",
    "        self.breed = breed\n",
    "    def bark(self):\n",
    "        return 'Woof! Woof!'\n",
    "\n",
    "dog = Dog('Jenny', 'German Sphered', 'female')\n",
    "print(dog.describe())\n",
    "print(dog.bark())"
   ]
  },
  {
   "cell_type": "markdown",
   "id": "9e7be8a4-3ac1-45e5-8a8b-6a4b647f8121",
   "metadata": {},
   "source": [
    "#### 2. ) Define a class `Person` with attributes `first_name` and `last_name`, and a method `print_name`. Create a derived class `Employee` with an additional attribute `employee_id`. Use the `super()` method to initialize the inherited attributes. Add a method `print_employee_info`. Instantiate an `Employee` object and call its methods."
   ]
  },
  {
   "cell_type": "code",
   "execution_count": 8,
   "id": "2bcf1b46-cb4c-494b-9d17-21754f2b12ab",
   "metadata": {},
   "outputs": [
    {
     "name": "stdout",
     "output_type": "stream",
     "text": [
      "Employee Name : Abhilash Kumar\n",
      "Employee Id : 52044784\n"
     ]
    }
   ],
   "source": [
    "class Person:\n",
    "    def __init__(self, first_name, last_name):\n",
    "        self.fname = first_name\n",
    "        self.lname = last_name\n",
    "    def print_name(self):\n",
    "        return f'{self.fname} {self.lname}'\n",
    "\n",
    "class Employee(Person):\n",
    "    def __init__(self, first_name, last_name, employee_id):\n",
    "        super().__init__(first_name, last_name)\n",
    "        self.id = employee_id\n",
    "\n",
    "    def print_emp_info(self):\n",
    "        return f'Employee Name : {self.print_name()}\\nEmployee Id : {self.id}'\n",
    "\n",
    "emp = Employee('Abhilash','Kumar', 52044784)\n",
    "print(emp.print_emp_info())"
   ]
  },
  {
   "cell_type": "markdown",
   "id": "818da971-3c66-4820-b6f5-1865ace4147f",
   "metadata": {},
   "source": [
    "#### 3. ) Define a class `Shape` with a method `area` returning 0. Create derived classes `Circle` and `Rectangle`, overriding the `area` method to return the actual area. Instantiate objects of `Circle` and `Rectangle` and print their areas."
   ]
  },
  {
   "cell_type": "code",
   "execution_count": 10,
   "id": "292f9312-76fa-46c1-b099-0205d80fdb63",
   "metadata": {},
   "outputs": [
    {
     "name": "stdout",
     "output_type": "stream",
     "text": [
      "78.5\n",
      "20\n"
     ]
    }
   ],
   "source": [
    "class Shape:\n",
    "    def area(self):\n",
    "        pass\n",
    "\n",
    "class Circle(Shape):\n",
    "    def __init__(self, radius):\n",
    "        self.radius = radius\n",
    "    def area(self):\n",
    "        return 3.14 * self.radius * self.radius\n",
    "\n",
    "class Rectangle(Shape):\n",
    "    def __init__(self, length, width):\n",
    "        self.length = length\n",
    "        self.width = width\n",
    "    def area(self):\n",
    "        return self.length * self.width\n",
    "\n",
    "circle = Circle(5)\n",
    "print(circle.area())\n",
    "rec = Rectangle(4,5)\n",
    "print(rec.area())\n"
   ]
  },
  {
   "cell_type": "markdown",
   "id": "f6ec2f70-765e-4ad0-8310-b27952b5eb82",
   "metadata": {},
   "source": [
    "#### 4.)Create base classes `Flying` with a method `fly` and `Swimming` with a method `swim`. Create a derived class `Duck` inheriting from both, with an additional method `quack`. Instantiate a `Duck` object and call all its methods.\r\n"
   ]
  },
  {
   "cell_type": "code",
   "execution_count": 12,
   "id": "4fd94da6-de0e-469b-b255-1e994a40ca9c",
   "metadata": {},
   "outputs": [
    {
     "name": "stdout",
     "output_type": "stream",
     "text": [
      "Flying....\n",
      "Swimming....\n",
      "Quack! Quack!....\n"
     ]
    }
   ],
   "source": [
    "class Flying:\n",
    "    def fly(self):\n",
    "        return 'Flying....'\n",
    "\n",
    "class Swimming:\n",
    "    def swim(self):\n",
    "        return 'Swimming....'\n",
    "\n",
    "class Duck(Flying, Swimming):\n",
    "    def quack(self):\n",
    "        return 'Quack! Quack!....'\n",
    "\n",
    "duck = Duck()\n",
    "print(duck.fly())\n",
    "print(duck.swim())\n",
    "print(duck.quack())"
   ]
  },
  {
   "cell_type": "markdown",
   "id": "83954983-6f89-46b5-b802-08ab33ed9295",
   "metadata": {},
   "source": [
    "#### 5.) Define class `A` with a method `method_A`, and class `E` with a method `method_E`. Create class `B` inheriting from `A` with a method `method_B`, and class `C` inheriting from `A` and `E` with a method `method_C`. Define class `D` inheriting from both `B` and `C` with a method `method_D`. Instantiate a `D` object and call all its methods.\r\n"
   ]
  },
  {
   "cell_type": "code",
   "execution_count": 14,
   "id": "e5a43c02-7cea-4aaa-9f78-7166e0da6a56",
   "metadata": {},
   "outputs": [
    {
     "name": "stdout",
     "output_type": "stream",
     "text": [
      "method of class A\n",
      "method of class B\n",
      "method of class C\n",
      "method of class D\n",
      "method of class E\n"
     ]
    }
   ],
   "source": [
    "class A:\n",
    "    def method_A(self):\n",
    "        return 'method of class A'\n",
    "\n",
    "class E:\n",
    "    def method_E(self):\n",
    "        return 'method of class E'\n",
    "\n",
    "class B(A):\n",
    "    def method_B(self):\n",
    "        return 'method of class B'\n",
    "\n",
    "class C(A, E):\n",
    "    def method_C(self):\n",
    "        return 'method of class C'\n",
    "\n",
    "class D(B, C):\n",
    "     def method_D(self):\n",
    "        return 'method of class D'\n",
    "\n",
    "d = D()\n",
    "print(d.method_A())\n",
    "print(d.method_B())\n",
    "print(d.method_C())\n",
    "print(d.method_D())\n",
    "print(d.method_E())"
   ]
  }
 ],
 "metadata": {
  "kernelspec": {
   "display_name": "Python [conda env:base] *",
   "language": "python",
   "name": "conda-base-py"
  },
  "language_info": {
   "codemirror_mode": {
    "name": "ipython",
    "version": 3
   },
   "file_extension": ".py",
   "mimetype": "text/x-python",
   "name": "python",
   "nbconvert_exporter": "python",
   "pygments_lexer": "ipython3",
   "version": "3.12.4"
  }
 },
 "nbformat": 4,
 "nbformat_minor": 5
}
